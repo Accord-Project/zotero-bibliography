{
 "cells": [
  {
   "cell_type": "code",
   "execution_count": 98,
   "id": "a27fa238",
   "metadata": {},
   "outputs": [],
   "source": [
    "import pandas as pd\n",
    "from pyzotero import zotero \n",
    "from IPython.display import display\n",
    "from sklearn.cluster import AffinityPropagation\n",
    "import distance\n",
    "import numpy as np\n",
    "pd.set_option('display.max_rows', 500)\n",
    "pd.set_option('display.max_columns', 500)\n",
    "pd.set_option('display.width', 1000)"
   ]
  },
  {
   "cell_type": "markdown",
   "id": "7cb6497e",
   "metadata": {},
   "source": [
    "# Zotero add-on\n",
    "\n",
    "We can extract all tags in a library using the add-on **zotero-tag** by right-clicking on the collection and exporting all tags as csv. It comes out with 4 columns - tag, count, items and ids.\n",
    "The items and ids columns contain lists separated by a comma, which bugs the python parser.  \n",
    "I opened it with LibreOffoce Calc and save it with semi-columns as a separtor.\n"
   ]
  },
  {
   "cell_type": "code",
   "execution_count": 99,
   "id": "c723c5ff",
   "metadata": {},
   "outputs": [
    {
     "data": {
      "text/html": [
       "<div>\n",
       "<style scoped>\n",
       "    .dataframe tbody tr th:only-of-type {\n",
       "        vertical-align: middle;\n",
       "    }\n",
       "\n",
       "    .dataframe tbody tr th {\n",
       "        vertical-align: top;\n",
       "    }\n",
       "\n",
       "    .dataframe thead th {\n",
       "        text-align: right;\n",
       "    }\n",
       "</style>\n",
       "<table border=\"1\" class=\"dataframe\">\n",
       "  <thead>\n",
       "    <tr style=\"text-align: right;\">\n",
       "      <th></th>\n",
       "      <th>TAG</th>\n",
       "      <th>COUNT</th>\n",
       "      <th>ITEMS</th>\n",
       "      <th>IDS</th>\n",
       "    </tr>\n",
       "  </thead>\n",
       "  <tbody>\n",
       "    <tr>\n",
       "      <th>0</th>\n",
       "      <td>/unread</td>\n",
       "      <td>551</td>\n",
       "      <td>A BIM-integrated Fuzzy Multi-criteria Decision...</td>\n",
       "      <td>474,306,163,54,461,580,103,395,493,165,525,127...</td>\n",
       "    </tr>\n",
       "    <tr>\n",
       "      <th>1</th>\n",
       "      <td>Building Information Modeling (BIM)</td>\n",
       "      <td>72</td>\n",
       "      <td>Semantic information alignment of BIMs to comp...</td>\n",
       "      <td>306,54,493,128,518,472,15,45,458,482,440,155,5...</td>\n",
       "    </tr>\n",
       "    <tr>\n",
       "      <th>2</th>\n",
       "      <td>Automated Compliance Checking (ACC)</td>\n",
       "      <td>30</td>\n",
       "      <td>Semantic information alignment of BIMs to comp...</td>\n",
       "      <td>306,54,15,458,590,448,102,447,58,577,425,600,3...</td>\n",
       "    </tr>\n",
       "    <tr>\n",
       "      <th>3</th>\n",
       "      <td>ontology</td>\n",
       "      <td>42</td>\n",
       "      <td>Semantic information alignment of BIMs to comp...</td>\n",
       "      <td>306,493,165,792,128,472,45,482,9,140,288,46,29...</td>\n",
       "    </tr>\n",
       "    <tr>\n",
       "      <th>4</th>\n",
       "      <td>Information extraction</td>\n",
       "      <td>2</td>\n",
       "      <td>Semantic information alignment of BIMs to comp...</td>\n",
       "      <td>306159</td>\n",
       "    </tr>\n",
       "  </tbody>\n",
       "</table>\n",
       "</div>"
      ],
      "text/plain": [
       "                                   TAG  COUNT                                              ITEMS                                                IDS\n",
       "0                              /unread    551  A BIM-integrated Fuzzy Multi-criteria Decision...  474,306,163,54,461,580,103,395,493,165,525,127...\n",
       "1  Building Information Modeling (BIM)     72  Semantic information alignment of BIMs to comp...  306,54,493,128,518,472,15,45,458,482,440,155,5...\n",
       "2  Automated Compliance Checking (ACC)     30  Semantic information alignment of BIMs to comp...  306,54,15,458,590,448,102,447,58,577,425,600,3...\n",
       "3                             ontology     42  Semantic information alignment of BIMs to comp...  306,493,165,792,128,472,45,482,9,140,288,46,29...\n",
       "4               Information extraction      2  Semantic information alignment of BIMs to comp...                                             306159"
      ]
     },
     "execution_count": 99,
     "metadata": {},
     "output_type": "execute_result"
    }
   ],
   "source": [
    "df = pd.read_csv('tags_fixed.csv',sep=';')\n",
    "df.head()"
   ]
  },
  {
   "cell_type": "code",
   "execution_count": 100,
   "id": "f5cec292",
   "metadata": {},
   "outputs": [
    {
     "name": "stdout",
     "output_type": "stream",
     "text": [
      "866\n"
     ]
    }
   ],
   "source": [
    "tags_addon = df['TAG']\n",
    "print(tags_addon.size)"
   ]
  },
  {
   "cell_type": "markdown",
   "id": "fbe3205a",
   "metadata": {},
   "source": [
    "# Zotero API\n",
    "\n",
    "[Here](https://www.zotero.org/support/dev/web_api/v3/basics) is an API which gives more detailed information on the group/personal libraries in JSON format.\n",
    "The library pyzotero helps in the usage. Let's compare the results.  \n",
    "\n",
    "The returned list contains duplicates. Strangely two we get two tags not found from the addon(mby set transforamtion)"
   ]
  },
  {
   "cell_type": "code",
   "execution_count": 101,
   "id": "213be19e",
   "metadata": {},
   "outputs": [],
   "source": [
    "# API key is personal, The id is of the grou[]\n",
    "zot = zotero.Zotero(3007408, 'group', 'Yv2xY0CH9vjjf40sQiVcCQt3')\n",
    "tags_api = pd.Series(zot.everything(zot.tags()))"
   ]
  },
  {
   "cell_type": "code",
   "execution_count": 102,
   "id": "a8c5d1ae",
   "metadata": {},
   "outputs": [
    {
     "data": {
      "text/plain": [
       "921"
      ]
     },
     "execution_count": 102,
     "metadata": {},
     "output_type": "execute_result"
    }
   ],
   "source": [
    "len(tags_api)"
   ]
  },
  {
   "cell_type": "code",
   "execution_count": 103,
   "id": "704f7feb",
   "metadata": {},
   "outputs": [
    {
     "data": {
      "text/plain": [
       "55"
      ]
     },
     "execution_count": 103,
     "metadata": {},
     "output_type": "execute_result"
    }
   ],
   "source": [
    "tags_api.duplicated().sum()"
   ]
  },
  {
   "cell_type": "code",
   "execution_count": 104,
   "id": "d6b95820",
   "metadata": {},
   "outputs": [
    {
     "data": {
      "text/plain": [
       "0"
      ]
     },
     "execution_count": 104,
     "metadata": {},
     "output_type": "execute_result"
    }
   ],
   "source": [
    "tags_addon.duplicated().sum()"
   ]
  },
  {
   "cell_type": "code",
   "execution_count": 105,
   "id": "8d53f542",
   "metadata": {},
   "outputs": [
    {
     "name": "stdout",
     "output_type": "stream",
     "text": [
      "{'Object-Property, Method, Relation', 'Rule language, engine and checking'}\n"
     ]
    }
   ],
   "source": [
    "dif = set(tags_api.tolist()) - set(tags_addon.tolist())\n",
    "print(dif)"
   ]
  },
  {
   "cell_type": "markdown",
   "id": "1cd53c21",
   "metadata": {},
   "source": [
    "Here is an example of a single item from the library and it's metadata"
   ]
  },
  {
   "cell_type": "code",
   "execution_count": 106,
   "id": "39091b17",
   "metadata": {},
   "outputs": [
    {
     "name": "stdout",
     "output_type": "stream",
     "text": [
      "{'key': 'IHC2TIKN', 'version': 1987, 'library': {'type': 'group', 'id': 3007408, 'name': 'Semantic BIM', 'links': {'alternate': {'href': 'https://www.zotero.org/groups/semantic_bim', 'type': 'text/html'}}}, 'links': {'self': {'href': 'https://api.zotero.org/groups/3007408/items/IHC2TIKN', 'type': 'application/json'}, 'alternate': {'href': 'https://www.zotero.org/groups/semantic_bim/items/IHC2TIKN', 'type': 'text/html'}}, 'meta': {'createdByUser': {'id': 10307964, 'username': 'aleksandrositsyn', 'name': 'Aleksandr Ositsyn', 'links': {'alternate': {'href': 'https://www.zotero.org/aleksandrositsyn', 'type': 'text/html'}}}, 'creatorSummary': 'Corry et al.', 'parsedDate': '2014-10', 'numChildren': 0}, 'data': {'key': 'IHC2TIKN', 'version': 1987, 'itemType': 'journalArticle', 'title': 'Using semantic web technologies to access soft AEC data', 'creators': [{'creatorType': 'author', 'firstName': 'Edward', 'lastName': 'Corry'}, {'creatorType': 'author', 'firstName': 'James', 'lastName': 'O’Donnell'}, {'creatorType': 'author', 'firstName': 'Edward', 'lastName': 'Curry'}, {'creatorType': 'author', 'firstName': 'Daniel', 'lastName': 'Coakley'}, {'creatorType': 'author', 'firstName': 'Pieter', 'lastName': 'Pauwels'}, {'creatorType': 'author', 'firstName': 'Marcus', 'lastName': 'Keane'}], 'abstractNote': 'Building related data tends to be generated, used and retained in a domain-specific manner. The lack of interoperability between data domains in the architecture, engineering and construction (AEC) industry inhibits the cross-domain use of data at an enterprise level. Semantic web technologies provide a possible solution to some of the noted interoperability issues. Traditional methods of information capture fail to take into account the wealth of soft information available throughout a building. Several sources of information are not included in performance assessment frameworks, including social media, occupant communication, mobile communication devices, occupancy patterns, human resource allocations and financial information. The paper suggests that improved data interoperability can aid the integration of untapped silos of information into existing structured performance measurement frameworks, leading to greater awareness of stakeholder concerns and building performance. An initial study of how building-related data can be published following semantic web principles and integrated with other ‘soft-data’ sources in a cross-domain manner is presented. The paper goes on to illustrate how data sources from outside the building operation domain can be used to supplement existing sources. Future work will include the creation of a semantic web based performance framework platform for building performance optimisation.', 'publicationTitle': 'Advanced Engineering Informatics', 'volume': '28', 'issue': '4', 'pages': '370–380', 'date': '2014-10', 'series': '', 'seriesTitle': '', 'seriesText': '', 'journalAbbreviation': '', 'language': 'en', 'DOI': '10.1016/j.aei.2014.05.002', 'ISSN': '1474-0346', 'shortTitle': '', 'url': 'https://www.sciencedirect.com/science/article/pii/S1474034614000366', 'accessDate': '2021-05-14', 'archive': '', 'archiveLocation': '', 'libraryCatalog': '', 'callNumber': '', 'rights': '', 'extra': 'Citation Key: corryUsingSemanticWeb2014', 'tags': [{'tag': '/unread'}, {'tag': 'Building performance'}, {'tag': 'Linked data'}, {'tag': 'Performance metrics'}, {'tag': 'RDF'}, {'tag': 'Social media'}, {'tag': 'Twitter'}], 'collections': [], 'relations': {}, 'dateAdded': '2022-10-12T14:04:27Z', 'dateModified': '2022-10-12T14:04:27Z'}}\n"
     ]
    }
   ],
   "source": [
    "items = zot.items()\n",
    "print(items[0])"
   ]
  },
  {
   "cell_type": "markdown",
   "id": "ff0a133c",
   "metadata": {},
   "source": [
    "# Normalization\n",
    "\n",
    "Even though Vlado suggested to use the algo's present in openrefine, a found a string clustering algo in sklearn library based on levenstein distance.\n",
    "The algorith gives a warning of failed convergence thus results may not be optimal."
   ]
  },
  {
   "cell_type": "code",
   "execution_count": 107,
   "id": "6720c80d",
   "metadata": {},
   "outputs": [
    {
     "name": "stdout",
     "output_type": "stream",
     "text": [
      " - *ontology:* Airport ontology, B-Prolog, Basic Formal Ontology, Bozen-Bolzano, CQIEOntology, CSCOntology, EUnet4DBP, Energy, Geology, IndoorGML, Meteorology, Prolog, Topology, Vocabulary, energy, ontology, ontology mapping, point cloud, pythonOCC, review methodology, taxonomy, terminology\n",
      " - *Visual Compliance Checking Language:* Visual Code Checking Language, Visual Compliance Checking Language\n",
      " - *spatial reasoning:* Declarative Reasoning, as-designed/as-built, defeasible reasoning, logic-based reasoning, spatial computation, spatial indexing, spatial operators, spatial reasoning, topological reasoning\n",
      " - *International Foundation Classes (IFC):* International Foundation Classes (IFC)\n",
      " - *Model view definition (MVD):* Model View Definition (MVD), Model view definition (MVD), Model view definitions (MVD)\n",
      " - *Hazard recognition and communication:* Hazard recognition and communication\n",
      " - *Occupational construction safety and health:* Occupational construction safety and health\n",
      " - *Schema:* AC Demat, Benchmark, BrickSchema, Florida, Geneva, Korea, Occupancy, Roadmap, Rotterdam, SEUMTER, SPIN Jena, Schema, Snøhetta, Social media, assembly, benchmark, ifcJSON\n",
      " - *Smart Buildings:* Smart Building, Smart Buildings, SmartCodes Builder, near-zero energy buildings, smart buildings\n",
      " - *Common Data Environenment (CDE):* Common Data Environenment (CDE), Common Data Environment (CDE)\n",
      " - *Sustainable Development Goals (SDG):* Sustainable Development Goals (SDG)\n",
      " - *DAta Linked Through Occurrences Network:* DAta Linked Through Occurrences Network\n",
      " - *Formalisation of conformance requirements:* Formalisation of conformance requirements\n",
      " - *Ontological approach for conformance checking:* Ontological approach for conformance checking\n",
      " - *Semantic annotation and organisation of building codes:* Semantic annotation and organisation of building codes\n",
      " - *information extraction:* Automated information extraction, Information extraction, Information retrieval, information container, information extraction\n",
      " - *Compliance Audit Procedures:* Compliance Audit Procedures, Compliant design procedures, Visual Audit Procedures\n",
      " - *Legal Knowledge Model:* Legal Knowledge Model, Regulatory knowledge model\n",
      " - *SPARQL:* BimSPARQL, GeoSPARQL, IfcOWL, SAREF, SAREF4BLDG, SHACL, SPARQL, SPARQL Construct, SPARQL complexity, SPARQL-generate, SWRL, mvdXML\n",
      " - *Information Container for Document Delivery (ICDD):* Information Container for Document Delivery (ICDD)\n",
      " - *ISO 21597:* BS/EN 16310, ISO 12006, ISO 12006-2, ISO 16739-1, ISO 19650, ISO 21597, ISO 21597-1, ISO 21838-2, ISO 22263, ISO 23387, ISO16739, NIST Tariff\n",
      " - *geometry:* Bimfactory, Geodata, Geometry, Geometry rule, Industry 4.0, Offset geometry, Solid geometry, comfort, country, geodata, geometry\n",
      " - *Level of Detail (LOD):* Level of Detail (LOD), Level of Geometry (LOG), Level of Information Need (LOIN), Level of Interest (LOI), Levels of Detail\n",
      " - *conflict-driven constraint learning:* conflict-driven constraint learning\n",
      " - *easoner:* /best-paper, BauVorIV, Bauantrag, Bossam reasoner, Demand Response, Engines, Estonia, Haystack, Hyperledger, LandInfra, LegalDocML, N3Logic, Navisworks, Pareto set, RealEstateCore, Reasoning, Singapore, Web-viewer, designbuilder, easoner, ecosystem, environmental, lessons learned, neural network, temporal\n",
      " - *Performance-based Building Code:* New Zealand Building Code, Performance-based Building Code\n",
      " - *Built Environment:* Built Environment, Open Government, Runtime Environment\n",
      " - *Concepts:* Agents, Akoma Ntoso, Checking, CityGML 3.0, Concepts, Conceptual Graph, Concrete, Context, Contexts, Processes\n",
      " - *Technologies:* Methodologies, Semantic Web Technologies, Technologies, Web technologies, decentralized, search engine\n",
      " - *building administration permission service:* building administration permission service\n",
      " - *energy performance certificates:* energy performance certificates, energy performance certification\n",
      " - *Building management systems:* BIM management system, Building management systems, building energy management systems\n",
      " - *Fault detection and diagnostics:* Fault detection and diagnostics\n",
      " - *renovation:* Automation, Documentation, Function, Geolocation, Information, Integration, OpenCDE-API, Pre-evaluation, Process optimization, Query Execution, Regulations, Verification, event-driven, firefighting, information, innovation, renovation, renovation process, rule extraction, segmentation\n",
      " - *‘passing’ and ‘failing’ concepts:* ‘passing’ and ‘failing’ concepts\n",
      " - *business case for use of virtual construction:* business case for use of virtual construction\n",
      " - *future of virtual construction and regulation checking:* future of virtual construction and regulation checking\n",
      " - *Solibri Model Checker:* EDM Model Checker, Solibri Model Checker\n",
      " - *BIM Service:* BIM Service, BIM querying, BIM server, BIM4REN project, Oriented Service, Shared Service, microservices\n",
      " - *Data integration:* 3D land administration, Continuous Integration, Data Dictionaries, Data integration, Data transformation, Dutch Rgd BIM Norm, Intelligent evaluation, Layout generation, Metadata annotation, WoT Thing Description, data interchange, ifcOWL instantiation, integration\n",
      " - *Data sharing:* Annual Saving, Blockchain, Data quality, Data sharing, Deep Learning, Deep learning, Dubai GIS Center, Laser scanning, SWRLJessBridge, Safety planning, additive manufacturing, back-jumping, lazy grounding, manufacturing, occupant behavior, path search\n",
      " - *Rules:* /unread, CORENET, Dubai, EXPRESS rules, FME-desktop, Finland, Fuzzy, Jena Rules, LegalRuleML, Malaysia, Milan, PROV-O, Quality, RCC-8, RDF-star, Ratio rule, Rules, Seumter, Solid, Tools, Turkey, Utilities, deltas, fuzzy sets, real estate\n",
      " - *Netherlands:* Netherlands, New Zealand, Performance, Requirements, Switzerland, power plants, provenance\n",
      " - *BIM Rule Language (BIMRL):* BIM Query Language (BIMQL), BIM Rule Language (BIMRL)\n",
      " - *BIMRL Simplified Schema (BIMRLSS):* BIMRL Simplified Schema (BIMRLSS)\n",
      " - *Information management:* Asset Information Requirements, Construction management, Information management, Performance management, Semantic information alignment, construction management\n",
      " - *Digital construction:* Digital Construction, Digital construction, building and construction, design by constraints\n",
      " - *Construction engineering:* Architectural engineering, Civil engineering, Communication in engineering, Computing in civil engineering, Construction engineering, Construction technical plan\n",
      " - *building automation:* Building Automation, Building Automation Systems, Building Digital Twin, Building Regulations, Building Topology Ontology, Formalisation automatique, Green building evaluation, bill of quantities, building acoustics, building automation, building benchmarking, building circulation, engineering optimisation\n",
      " - *Rule language:* BERA language, KBim Visual Language, Query language, Rule engine, Rule language, Structured Natural Language, executable language\n",
      " - *Construction:* BIM object recognition, Computer applications, Constraint, Constructability, Construction, Construction 4.0, Cost estimate, IfcConstraint, change detection, construction\n",
      " - *Linked data:* Linked Data, Linked Data Platform (LDP), Linked data, Linked open data, Numeric data, Time-series data, big data, linked data, metadata, planned/actual\n",
      " - *Semantic interoperability:* Semantic Interoperability, Semantic interoperability\n",
      " - *Wireless sensor networks:* Water distribution networks, Wireless Sensor Networks, Wireless sensor networks\n",
      " - *energy management:* Building Management, Energy management, Knowledge Management, Knowledge management, Onlinezugangsgesetz, Project management, Site management, Temperature measurement, Use Case Management, asset management, energy management, ontology enrichment\n",
      " - *ontology and inference rule based framework:* ontology and inference rule based framework\n",
      " - *Computer Science - Computers and Society:* Computer Science - Computers and Society\n",
      " - *semantic modeling:* Autonomic Computing, Knowledge modeling, Object oriented modeling, Ontology modelling, Semantic knowledge, Semantic modeling, parametric modeling, process modeling, semantic mapping, semantic modeling, semantic technology\n",
      " - *ambient intelligence:* Artificial Intelligence, ambient intelligence\n",
      " - *domain ontologies:* Domain Ontology, Fuzzy ontologies, Product Catalogue, domain ontologies, engineering ontologies, enrichissement d'ontologie, spatial ontologies\n",
      " - *Electricity:* Electricity, Electricity Market, Electronic books, air quality, uncertainty\n",
      " - *Semantics:* Communities, Performance metrics, Semantic, Semantic BIM, Semantic Web, Semantic web, Semantics, Sensors, Smart City, Smart Grid, Soft Skills, e-maintenance, ePlanCheck, semantics\n",
      " - *Buildings:* Buildability, Buildings, Built2Spec, Guidelines, Web of Things, building, oil and gas, proceedings\n",
      " - *Expert System:* Central Server, Energy Systems, Expert System, Expert systems, Export test, Import test, legality system\n",
      " - *code compliance checking:* Automated Compliance Checking (ACC), Compliance checking, Design compliance checking, code compliance checking, code compliance checks, compliance checking, safety compliance checking\n",
      " - *Automated design assessment:* Automated design assessment, automated design review\n",
      " - *Computer-executable form:* Computer-executable form\n",
      " - *KBimCode:* BimCheck, KBimAssess, KBimCode, KBimCodeDB, KBimLogic, KBimVeri, SimModel, SmartCodes\n",
      " - *Generative design:* Generative design, Generative interior design, structural design\n",
      " - *Multiobjective performance optimisation:* Building performance optimisation, Multiobjective performance optimisation\n",
      " - *interoperability:* Data interoperability, Interoperability, interoperability\n",
      " - *Data models:* 3D city model, 3D modelling, ASHVIN project, Adaptation models, Data Model, Data models, Facility data model, LOD levels, Load modeling, Management methods, Mathematical model, Maturity Model, Object model, coding model, material properties, safety and health, smart meters\n",
      " - *Context-free grammar (CFG):* Context-free grammar (CFG)\n",
      " - *Request for proposal (RFP):* Request for proposal (RFP)\n",
      " - *Rule interpretation:* Rule interpretation, Rules Classification, rule interpretation\n",
      " - *AIM:* 3CIM, ACABIM, AEC, AECO, AI, AIM, ASP4BIM, Austria, BIMSeek, BIMbots, BPMN, C/VM2, CityGML, EHR, ELASSTIC, ESRI, EYE, FIBO, FSGIM, GeoBIM, IDM, Jess, KOM, LKM, MBO, MEP, MVD, McBIM, NRM2, NZBC, ONTOP, OPM, Open BIM, Org, POMI2, PSD, QL4BIM, RKM, SITG, SMC, SPIN, TIO, TNO, UCM, UoM, XBIM, eeBIM\n",
      " - *validation:* BIM collaboration, Design model validation, Digital Twin, Digitalization, HVAC design, IFC Validation, Saudi Arabia, Validation, application, classification, data validation, fault detection, handbook, validation, visualization\n",
      " - *Test-Driven Development:* Behavior-Driven Development, Research and development, Test-Driven Development\n",
      " - *Long short-term memory (LSTM):* Long short-term memory (LSTM)\n",
      " - *Regulatory compliance:* Proof of compliance, Regulation constraint, Regulatory compliance, Semantics of Regulatory Compliance, Urban planning compliance\n",
      " - *Domain Specific Language:* Domain Specific Language, domain specific language\n",
      " - *Norwegian Statsbygg BIM Manual:* Norwegian Statsbygg BIM Manual\n",
      " - *rule checking:* Code Checking Rules, Code checking, Design rule checking, Firewalls (computing), IFC Checker, IFC schema checking, Quality check, Rule checking, Rule-based checking, Safety checking, Value Stream Mapping, e-checking, legality checking, model checking, pre-checking, rule checking, rule complexity, rule reasoning, rule-checking\n",
      " - *Machine Learning:* Layout planning, Machine Learning, Production planning, Reinforcement Learning, ifcwebserver.org, machine learning, search space pruning\n",
      " - *Natural language processing:* Natural Language Processing, Natural language processing, Natural language processing (NLP)\n",
      " - *Evacuation regulation:* Evacuation regulation, Procedural code generation, Semantics of regulations, Utility regulations, construction regulations, legislation and regulations\n",
      " - *High-rise and complex buildings:* High-rise and complex buildings\n",
      " - *Energy analysis:* Bibliometric Analysis, Energy analysis, Energy consumption, Energy systems analysis, Indoor spatial analysis, Query expansion, energy saving, logical analysis, sentence analysis, structural analysis\n",
      " - *location breakdown structure:* location breakdown structure\n",
      " - *Stages:* ByggNett, Entities, Harpaceas, MetaLex, Metadata, Petri nets, Protege, Siemens, Software, Spatial DBs, Stages, Standards, Stardog, Statsbygg, Sweden, Switches, XPlanung, damage, damages, octree, updates\n",
      " - *rail:* ArchiCAD, Australia, Brasil, COBie, Drools, France, Germany, Gherkin, GraphDB, GraphQL, IFCowl, Italy, Izmir, Japan, Materials, Neo4J, Nordic, Norway, Portugal, Solibri, Sud-Tirol, Variables, graph, have, hybrid, rail, review, revit, road\n",
      " - *building permit:* Building Permit, Building Permits, Building performance, Building permit, Well-defined Text, building code, building life-cycle, building materials, building permission, building permit, building permit checking, building permit process, building permits, buildingSmart, explainable CPS\n",
      " - *dice:* Bosch, China, Clingo, Diff, IfcDoc, IfcView, India, LicA, Lifecycle, Logic, Logic rule, OWL-Time, Twitter, design, dica, dicbm, dicc, dice, dices, dici, dicl, diclvl, dicob, dicp, dicstg, dicu, dicv, digiKOM, distributed, efficiency, lifts\n",
      " - *Geographic Information System:* Geographic Information System\n",
      " - *Local context analysis (LCA):* Local context analysis (LCA)\n",
      " - *Geospatial data:* 3D cadastral maps, Geospatial analysis, Geospatial data, Relational database, geospatial data\n",
      " - *DL:* 3D, CG, DALTON, DL, DTDL, DevOps, DiCon, GML, HDF5, ICDD, KBVL, MVDXML, NDBC, NLP, OWL, PLM, QUDT, RDF, SNL, SQL, SSN, STL, Tx3, VCCL, VPL, bSDD, ifcOWL\n",
      " - *Semantic frame:* Explanation of proof, Semantic Data, Semantic Mediation, Semantic Web Service, Semantic alignment, Semantic analysis, Semantic enrichment, Semantic frame, Semantic framework, Semantic systems, relation phrase, semantic data, semantic rules\n",
      " - *Energy efficiency:* Energy Efficiency, Energy efficiency, building energy efficiency, energy efficiency\n",
      " - *e-Submission system:* Virtual Permitting System, building e-Submission system, cyber-physical systems, e-Submission, e-Submission system\n",
      " - *BAS:* BACS, BAS, BCF, BEMS, BERA, BFO, BMS, BOT, BRMS, BauGB, CAP, CMIS, EBPD, FOAF, FORNAX, GATE, GIS, Geo, HOAI, IFC, IoT, JESS, JSDAI, KBim, KPI, LBD, LBauO, LPG, OpenADR, RASE, RETE, RIBA, SBVR, SNACC, SOSA, WGS84, X3D, XBau\n",
      " - *Answer Set Programming:* Answer Set Programming, Answer Set Programming (ASP), visual programming\n",
      " - *Automated construction management systems:* Automated construction management systems\n",
      " - *open standards:* BIM standards, Model Based Approach, Open CASCADE, Open Data Standards, open standards\n",
      " - *Digital building permit:* Digital building permit, Digital building twin (DBT), Estonian Building Registry\n",
      " - *Industry Foundation Classes:* Industry Foundation Classes, Industry Foundation Classes (IFC), Industry foundation classes\n",
      " - *Test Indicator Objective:* Test Indicator Objective\n",
      " - *transcribe-transform-transfer:* transcribe-transform-transfer\n",
      " - *Automatic formalization:* Automatic formalization, Automatic validation, Information formalization, Knowledge formalisation\n",
      " - *conversion:* BIM Vision, Factory design, IFC-OWL conversion, Lower Saxony, Normative provisions, OWL class expression, comparison, computer vision, conflict resolution, conversion, underground, ⛔ No DOI found\n",
      " - *KBimCode Editor:* KBimAssess-Lite, KBimCode Composer, KBimCode Editor, KBimCode Object Model, KBimSubmission, Limestone calculator\n",
      " - *Object-Property$COMMA$ Method$COMMA$ Relation:* Object-Property$COMMA$ Method$COMMA$ Relation\n",
      " - *Information Delivery Manual (IDM):* Information Delivery Manual (IDM), Information Delivery Specification (IDS)\n",
      " - *Product Data Templates (PDT):* Product Data Templates (PDT)\n",
      " - *Collaborative ontology development:* Collaborative ontology development\n",
      " - *National Mapping and Cadastral Agencies:* National Mapping and Cadastral Agencies\n",
      " - *Environmental Performance Calculation:* Environmental Performance Calculation\n",
      " - *Building environmental monitoring:* Building Environment Rule and Analysis, Building environmental monitoring\n",
      " - *Knowledge-based system:* Knowledge based systems, Knowledge-based system\n",
      " - *Property Sets:* IFC Property templates, Property Sets, Property data, Property ownership, property valuation\n",
      " - *Masterplan Digitalisierung:* Masterplan Digitalisierung\n",
      " - *Java Standard Data Access Interface:* Java Standard Data Access Interface\n",
      " - *use case:* Business rule, PLR-cadastre, Risk assessment, Rule tables, SQL rule, Units of Measure, Use case, fire safety, noun phrase, open access, unit test, update patches, use case, verb phrase\n",
      " - *CLML (Crown Legislation Markup Language):* CLML (Crown Legislation Markup Language)\n",
      " - *LKIF (Legal Knowledge Interchange Format):* LKIF (Legal Knowledge Interchange Format)\n",
      " - *Architecture:* Architecture, Attribute rule, architecture, infrastructure, product cycle\n",
      " - *Business rule management system (BRMS):* Business rule management system (BRMS)\n",
      " - *Construction site layout planning:* Construction site layout planning\n",
      " - *Rule language$COMMA$ engine and checking:* Rule language$COMMA$ engine and checking\n",
      " - *Building Information Modeling:* Building Information Modeling, Building Information Modeling (BIM), Building compliance model\n",
      " - *Construction safety:* Bidirectional LSTM, Construction industry, Construction methods, Construction project, Construction quality, Construction resource, Construction safety, Construction workflow, Design for safety, construction lifecycle, construction process, well-structured documents\n",
      " - *decision support:* decision support, decision table, description logic, group decision making, life-cycle design support, version history\n",
      " - *Inference rules:* Conference Proceedings, Fire escape route, Inference Engine, Inference rules, Pattern-matching rules, knowledge graphs\n",
      " - *Municipality Housing and Zoning:* Municipality Housing and Zoning\n"
     ]
    },
    {
     "name": "stderr",
     "output_type": "stream",
     "text": [
      "/home/boyan/.local/lib/python3.10/site-packages/sklearn/cluster/_affinity_propagation.py:236: ConvergenceWarning: Affinity propagation did not converge, this model may return degenerate cluster centers and labels.\n",
      "  warnings.warn(\n"
     ]
    }
   ],
   "source": [
    "# Using the tags from the addon plugin\n",
    "words = np.asarray(tags_addon) \n",
    "lev_similarity = -1*np.array([[distance.levenshtein(w1,w2) for w1 in words] for w2 in words])\n",
    "affprop = AffinityPropagation(affinity=\"precomputed\", damping=0.5)\n",
    "affprop.fit(lev_similarity)\n",
    "for cluster_id in np.unique(affprop.labels_):\n",
    "    exemplar = words[affprop.cluster_centers_indices_[cluster_id]]\n",
    "    cluster = np.unique(words[np.nonzero(affprop.labels_==cluster_id)])\n",
    "    cluster_str = \", \".join(cluster)\n",
    "    print(\" - *%s:* %s\" % (exemplar, cluster_str))\n",
    "    "
   ]
  },
  {
   "cell_type": "code",
   "execution_count": 108,
   "id": "5cf5e515",
   "metadata": {},
   "outputs": [
    {
     "data": {
      "text/plain": [
       "['ontology',\n",
       " 'Visual Compliance Checking Language',\n",
       " 'spatial reasoning',\n",
       " 'International Foundation Classes (IFC)',\n",
       " 'Model view definition (MVD)',\n",
       " 'Hazard recognition and communication',\n",
       " 'Occupational construction safety and health',\n",
       " 'Schema',\n",
       " 'Smart Buildings',\n",
       " 'Common Data Environenment (CDE)',\n",
       " 'Sustainable Development Goals (SDG)',\n",
       " 'DAta Linked Through Occurrences Network',\n",
       " 'Formalisation of conformance requirements',\n",
       " 'Ontological approach for conformance checking',\n",
       " 'Semantic annotation and organisation of building codes',\n",
       " 'information extraction',\n",
       " 'Compliance Audit Procedures',\n",
       " 'Legal Knowledge Model',\n",
       " 'SPARQL',\n",
       " 'Information Container for Document Delivery (ICDD)',\n",
       " 'ISO 21597',\n",
       " 'geometry',\n",
       " 'Level of Detail (LOD)',\n",
       " 'conflict-driven constraint learning',\n",
       " 'easoner',\n",
       " 'Performance-based Building Code',\n",
       " 'Built Environment',\n",
       " 'Concepts',\n",
       " 'Technologies',\n",
       " 'building administration permission service',\n",
       " 'energy performance certificates',\n",
       " 'Building management systems',\n",
       " 'Fault detection and diagnostics',\n",
       " 'renovation',\n",
       " '‘passing’ and ‘failing’ concepts',\n",
       " 'business case for use of virtual construction',\n",
       " 'future of virtual construction and regulation checking',\n",
       " 'Solibri Model Checker',\n",
       " 'BIM Service',\n",
       " 'Data integration',\n",
       " 'Data sharing',\n",
       " 'Rules',\n",
       " 'Netherlands',\n",
       " 'BIM Rule Language (BIMRL)',\n",
       " 'BIMRL Simplified Schema (BIMRLSS)',\n",
       " 'Information management',\n",
       " 'Digital construction',\n",
       " 'Construction engineering',\n",
       " 'building automation',\n",
       " 'Rule language',\n",
       " 'Construction',\n",
       " 'Linked data',\n",
       " 'Semantic interoperability',\n",
       " 'Wireless sensor networks',\n",
       " 'energy management',\n",
       " 'ontology and inference rule based framework',\n",
       " 'Computer Science - Computers and Society',\n",
       " 'semantic modeling',\n",
       " 'ambient intelligence',\n",
       " 'domain ontologies',\n",
       " 'Electricity',\n",
       " 'Semantics',\n",
       " 'Buildings',\n",
       " 'Expert System',\n",
       " 'code compliance checking',\n",
       " 'Automated design assessment',\n",
       " 'Computer-executable form',\n",
       " 'KBimCode',\n",
       " 'Generative design',\n",
       " 'Multiobjective performance optimisation',\n",
       " 'interoperability',\n",
       " 'Data models',\n",
       " 'Context-free grammar (CFG)',\n",
       " 'Request for proposal (RFP)',\n",
       " 'Rule interpretation',\n",
       " 'AIM',\n",
       " 'validation',\n",
       " 'Test-Driven Development',\n",
       " 'Long short-term memory (LSTM)',\n",
       " 'Regulatory compliance',\n",
       " 'Domain Specific Language',\n",
       " 'Norwegian Statsbygg BIM Manual',\n",
       " 'rule checking',\n",
       " 'Machine Learning',\n",
       " 'Natural language processing',\n",
       " 'Evacuation regulation',\n",
       " 'High-rise and complex buildings',\n",
       " 'Energy analysis',\n",
       " 'location breakdown structure',\n",
       " 'Stages',\n",
       " 'rail',\n",
       " 'building permit',\n",
       " 'dice',\n",
       " 'Geographic Information System',\n",
       " 'Local context analysis (LCA)',\n",
       " 'Geospatial data',\n",
       " 'DL',\n",
       " 'Semantic frame',\n",
       " 'Energy efficiency',\n",
       " 'e-Submission system',\n",
       " 'BAS',\n",
       " 'Answer Set Programming',\n",
       " 'Automated construction management systems',\n",
       " 'open standards',\n",
       " 'Digital building permit',\n",
       " 'Industry Foundation Classes',\n",
       " 'Test Indicator Objective',\n",
       " 'transcribe-transform-transfer',\n",
       " 'Automatic formalization',\n",
       " 'conversion',\n",
       " 'KBimCode Editor',\n",
       " 'Object-Property$COMMA$ Method$COMMA$ Relation',\n",
       " 'Information Delivery Manual (IDM)',\n",
       " 'Product Data Templates (PDT)',\n",
       " 'Collaborative ontology development',\n",
       " 'National Mapping and Cadastral Agencies',\n",
       " 'Environmental Performance Calculation',\n",
       " 'Building environmental monitoring',\n",
       " 'Knowledge-based system',\n",
       " 'Property Sets',\n",
       " 'Masterplan Digitalisierung',\n",
       " 'Java Standard Data Access Interface',\n",
       " 'use case',\n",
       " 'CLML (Crown Legislation Markup Language)',\n",
       " 'LKIF (Legal Knowledge Interchange Format)',\n",
       " 'Architecture',\n",
       " 'Business rule management system (BRMS)',\n",
       " 'Construction site layout planning',\n",
       " 'Rule language$COMMA$ engine and checking',\n",
       " 'Building Information Modeling',\n",
       " 'Construction safety',\n",
       " 'decision support',\n",
       " 'Inference rules',\n",
       " 'Municipality Housing and Zoning']"
      ]
     },
     "execution_count": 108,
     "metadata": {},
     "output_type": "execute_result"
    }
   ],
   "source": [
    "clusters = [words[center] for center in affprop.cluster_centers_indices_]\n",
    "clusters"
   ]
  },
  {
   "cell_type": "code",
   "execution_count": 95,
   "id": "5ae9d0e8",
   "metadata": {},
   "outputs": [
    {
     "data": {
      "text/plain": [
       "138"
      ]
     },
     "execution_count": 95,
     "metadata": {},
     "output_type": "execute_result"
    }
   ],
   "source": [
    "len(clusters)"
   ]
  }
 ],
 "metadata": {
  "kernelspec": {
   "display_name": "Python 3 (ipykernel)",
   "language": "python",
   "name": "python3"
  },
  "language_info": {
   "codemirror_mode": {
    "name": "ipython",
    "version": 3
   },
   "file_extension": ".py",
   "mimetype": "text/x-python",
   "name": "python",
   "nbconvert_exporter": "python",
   "pygments_lexer": "ipython3",
   "version": "3.10.6"
  }
 },
 "nbformat": 4,
 "nbformat_minor": 5
}
